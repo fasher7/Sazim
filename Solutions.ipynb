{
 "cells": [
  {
   "cell_type": "markdown",
   "metadata": {},
   "source": [
    "##### Solution to Problem 1"
   ]
  },
  {
   "cell_type": "code",
   "execution_count": 1,
   "metadata": {},
   "outputs": [],
   "source": [
    "def remove_num(str):\n",
    "    new_str = \"\"\n",
    "    for element in str:\n",
    "        if not (ord(element) >= 48 and ord(element) <= 57):\n",
    "            new_str += element\n",
    "    return new_str\n",
    "    "
   ]
  },
  {
   "cell_type": "code",
   "execution_count": 2,
   "metadata": {},
   "outputs": [],
   "source": [
    "def decode_advanced_message(str, pos):\n",
    "    charSet = \"abcdefghijklmnopqrstuvwxyz !.,?;:\"\n",
    "    decoder = \"\"\n",
    "    for element in str:\n",
    "        if ord(element) >= 100 and ord(element) <= 122:\n",
    "            newChar = ord(element) - pos\n",
    "            decoder += chr(newChar)\n",
    "        else:\n",
    "            finder = charSet.rfind(element)\n",
    "            finder += - pos\n",
    "            char = charSet[finder]\n",
    "            decoder += char\n",
    "        \n",
    "    return decoder\n",
    "            "
   ]
  },
  {
   "cell_type": "code",
   "execution_count": 3,
   "metadata": {},
   "outputs": [
    {
     "name": "stdout",
     "output_type": "stream",
     "text": [
      "hello, world!\n"
     ]
    }
   ],
   "source": [
    "encoded_msg = \"k1h2o3o4r5:6,7z8r9u10o11g12?13\"\n",
    "em = remove_num(encoded_msg)\n",
    "shift = 3\n",
    "decode = decode_advanced_message(em, shift)\n",
    "print(decode)"
   ]
  },
  {
   "cell_type": "markdown",
   "metadata": {},
   "source": [
    "##### Solution to Problem 2"
   ]
  },
  {
   "cell_type": "code",
   "execution_count": 4,
   "metadata": {},
   "outputs": [],
   "source": [
    "class TransactionMonitor:\n",
    "    def __init__(self, threshold, days):\n",
    "        self.threshold = threshold\n",
    "        self.data = days\n",
    "        self.money = []\n",
    "        self.day1 = None\n",
    "\n",
    "    def process_transaction(self, account_id, amount, timestamp):\n",
    "        if self.day1 is None:\n",
    "            self.day1 = int(timestamp[8:10])\n",
    "        day2 = int(timestamp[8:10])\n",
    "        if (day2 - self.day1 != self.data):\n",
    "            self.money.append(amount)\n",
    "        else:\n",
    "            self.money.sort()\n",
    "            range = len(self.money)\n",
    "            if range % 2 == 0:\n",
    "                mid1 = int((range / 2) - 1)\n",
    "                mid2 = mid1 + 1\n",
    "                median = (self.money[mid1] + self.money[mid2]) / 2\n",
    "            else:\n",
    "                mid = int(range / 2)\n",
    "                median = self.money[mid]\n",
    "            if 2*median >= self.threshold:\n",
    "                self.flag_account(account_id)\n",
    "\n",
    "    def flag_account(self, account_id):\n",
    "        print(f\"{account_id}'s account has been flagged as suspicious\")\n"
   ]
  },
  {
   "cell_type": "code",
   "execution_count": 5,
   "metadata": {},
   "outputs": [
    {
     "name": "stdout",
     "output_type": "stream",
     "text": [
      "acc123's account has been flagged as suspicious\n"
     ]
    }
   ],
   "source": [
    "tms = TransactionMonitor(threshold=10000, days=3)\n",
    "tms.process_transaction('acc123', 5000, '2024-04-21T10:00:00Z')\n",
    "tms.process_transaction('acc123', 12000, '2024-04-21T22:50:00Z')\n",
    "tms.process_transaction('acc123', 15500, '2024-04-22T18:00:00Z')\n",
    "tms.process_transaction('acc123', 2250, '2024-04-22T20:00:00Z')\n",
    "tms.process_transaction('acc123', 7500, '2024-04-23T16:00:00Z')\n",
    "tms.process_transaction('acc123', 8500, '2024-04-23T18:00:00Z')\n",
    "tms.process_transaction('acc123', 500, '2024-04-24T18:00:00Z')"
   ]
  },
  {
   "cell_type": "markdown",
   "metadata": {},
   "source": [
    "##### Solution to Problem 3"
   ]
  },
  {
   "cell_type": "code",
   "execution_count": 6,
   "metadata": {},
   "outputs": [],
   "source": [
    "class LRUCache:\n",
    "    def __init__(self, capacity):\n",
    "        self.capacity = capacity\n",
    "        self.cache = {}\n",
    "        self.lRUsed = [] \n",
    "    \n",
    "    def get(self, key):\n",
    "        if key in self.cache:\n",
    "            self.lRUsed.remove(key)\n",
    "            self.lRUsed.insert(0, key)\n",
    "            return self.cache[key]\n",
    "        else:\n",
    "            return -1\n",
    "\n",
    "    def put(self, key, value):\n",
    "        if len(self.cache) < self.capacity:\n",
    "            self.lRUsed.insert(0, key)\n",
    "            self.cache[key] = value\n",
    "        else:\n",
    "            toRemove = self.lRUsed.pop()\n",
    "            if toRemove in self.cache:\n",
    "                del self.cache[toRemove]\n",
    "                self.cache[key] = value\n",
    "                self.lRUsed.insert(0, key)"
   ]
  },
  {
   "cell_type": "code",
   "execution_count": 7,
   "metadata": {},
   "outputs": [
    {
     "name": "stdout",
     "output_type": "stream",
     "text": [
      "1\n",
      "-1\n",
      "-1\n",
      "3\n",
      "4\n"
     ]
    }
   ],
   "source": [
    "lru = LRUCache(2)\n",
    "lru.put(1, 1)\n",
    "lru.put(2, 2)\n",
    "print(lru.get(1))\n",
    "lru.put(3, 3)\n",
    "print(lru.get(2))\n",
    "lru.put(4, 4)\n",
    "print(lru.get(1))\n",
    "print(lru.get(3))\n",
    "print(lru.get(4))"
   ]
  },
  {
   "cell_type": "markdown",
   "metadata": {},
   "source": [
    "##### Solution to Problem 4"
   ]
  },
  {
   "cell_type": "code",
   "execution_count": 8,
   "metadata": {},
   "outputs": [],
   "source": [
    "import time"
   ]
  },
  {
   "cell_type": "code",
   "execution_count": 9,
   "metadata": {},
   "outputs": [],
   "source": [
    "class RateLimiter:\n",
    "    def __init__(self, N, T):\n",
    "        self.N = N\n",
    "        self.T = T\n",
    "        self.username = \"\"\n",
    "        self.count = 0\n",
    "        self.startTime = 0\n",
    "        self.endTime = 0\n",
    "    \n",
    "    def allow_request(self, user_id):\n",
    "        current_time = time.perf_counter()\n",
    "        if self.username == \"\":\n",
    "            self.username = user_id\n",
    "        if self.username == user_id:\n",
    "            if self.count != self.N:\n",
    "                if self.count == 0:\n",
    "                    self.startTime = time.perf_counter()\n",
    "                self.count += 1\n",
    "                self.endTime = time.perf_counter()\n",
    "                return True\n",
    "            else:\n",
    "                self.endTime = time.perf_counter()\n",
    "                if self.endTime - self.startTime < self.T:\n",
    "                    return False\n",
    "                else:\n",
    "                    self.startTime = current_time\n",
    "                    self.endTime = current_time\n",
    "                    self.count = 1\n",
    "                    return True\n",
    "    \n",
    "        if self.username != user_id:\n",
    "            self.count = 0\n",
    "            self.username = user_id\n"
   ]
  },
  {
   "cell_type": "code",
   "execution_count": 10,
   "metadata": {},
   "outputs": [
    {
     "name": "stdout",
     "output_type": "stream",
     "text": [
      "True\n",
      "True\n",
      "True\n"
     ]
    }
   ],
   "source": [
    "limiter = RateLimiter(2, 60)\n",
    "user_id = \"user123\"\n",
    "print(limiter.allow_request(user_id))\n",
    "print(limiter.allow_request(user_id))\n",
    "time.sleep(60)\n",
    "print(limiter.allow_request(user_id))"
   ]
  }
 ],
 "metadata": {
  "kernelspec": {
   "display_name": "Python 3",
   "language": "python",
   "name": "python3"
  },
  "language_info": {
   "codemirror_mode": {
    "name": "ipython",
    "version": 3
   },
   "file_extension": ".py",
   "mimetype": "text/x-python",
   "name": "python",
   "nbconvert_exporter": "python",
   "pygments_lexer": "ipython3",
   "version": "3.11.0"
  }
 },
 "nbformat": 4,
 "nbformat_minor": 2
}
